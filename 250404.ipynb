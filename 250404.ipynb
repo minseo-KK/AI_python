{
  "nbformat": 4,
  "nbformat_minor": 0,
  "metadata": {
    "colab": {
      "provenance": []
    },
    "kernelspec": {
      "name": "python3",
      "display_name": "Python 3"
    },
    "language_info": {
      "name": "python"
    }
  },
  "cells": [
    {
      "cell_type": "code",
      "source": [
        "# 온도 변환기\n",
        "\n",
        "kind =input ('온도종류 (섭씨 또는 화씨):')\n",
        "temp=int (input (kind+'온도:'))\n",
        "\n",
        "if kind == '섭씨':\n",
        "  print (f'화씨 온도{ temp *9/5+32}')\n",
        "else:\n",
        "  print (f'섭씨 온도{ (temp-32)*5/9}')"
      ],
      "metadata": {
        "colab": {
          "base_uri": "https://localhost:8080/"
        },
        "id": "l1cjYsOdU3B6",
        "outputId": "cb90dd10-ade8-4b9c-956c-782665ac6cf2"
      },
      "execution_count": 12,
      "outputs": [
        {
          "output_type": "stream",
          "name": "stdout",
          "text": [
            "온도종류 (섭씨 또는 화씨):섭씨\n",
            "섭씨온도:52\n",
            "화씨 온도125.6.2f\n"
          ]
        }
      ]
    },
    {
      "cell_type": "code",
      "source": [
        "# %를 사용해 소수점 지정\n",
        "\n",
        "temp = 60.0\n",
        "print(\"온도: %.2f\" %temp)\n"
      ],
      "metadata": {
        "colab": {
          "base_uri": "https://localhost:8080/"
        },
        "id": "5zNzfy0Ebap4",
        "outputId": "963f86c6-c15e-44d3-fbfd-c87e1263fdef"
      },
      "execution_count": 13,
      "outputs": [
        {
          "output_type": "stream",
          "name": "stdout",
          "text": [
            "온도: 60.00\n"
          ]
        }
      ]
    },
    {
      "cell_type": "code",
      "source": [
        "# 모듈 random: 난수를 발생시킴\n",
        "# 컴퓨터가 선택한 수 맞히기\n",
        "\n",
        "import random\n",
        "\n",
        "print('1부터 100까지의 수 하나를 정했습니다.')\n",
        "print('이 숫자를 맞혀보세요.')\n",
        "\n",
        "answer=random.randint(1,100)\n",
        "times=0                                # 타임이라는 변수를 0으로 초기화 시켜놓음. 입력한 횟수 체크\n",
        "\n",
        "while True:\n",
        "  user=int(input('1~100 숫자 입력: '))\n",
        "  times += 1\n",
        "  if user == answer:\n",
        "    break                              # 이 반복문에서 빠져나오게해줌.\n",
        "  elif user<answer:\n",
        "    print(f'{user}보다 큽니다.')\n",
        "  else:\n",
        "    print(f'{user}보다 작습니다.')\n",
        "\n",
        "print(f'정답입니다. {times}번만에 맞추었습니다.')\n"
      ],
      "metadata": {
        "colab": {
          "base_uri": "https://localhost:8080/"
        },
        "id": "OBsxj67tbxY9",
        "outputId": "081a6cbc-71fc-450c-a3c4-3b539a43b7ec"
      },
      "execution_count": 24,
      "outputs": [
        {
          "output_type": "stream",
          "name": "stdout",
          "text": [
            "1부터 100까지의 수 하나를 정했습니다.\n",
            "이 숫자를 맞혀보세요.\n",
            "1~100 숫자 입력: 50\n",
            "50보다 작습니다.\n",
            "1~100 숫자 입력: 25\n",
            "25보다 작습니다.\n",
            "1~100 숫자 입력: 12\n",
            "12보다 작습니다.\n",
            "1~100 숫자 입력: 6\n",
            "6보다 큽니다.\n",
            "1~100 숫자 입력: 9\n",
            "9보다 큽니다.\n",
            "1~100 숫자 입력: 10\n",
            "10보다 큽니다.\n",
            "1~100 숫자 입력: 11\n",
            "정답입니다. 7번만에 맞추었습니다.\n"
          ]
        }
      ]
    },
    {
      "cell_type": "code",
      "source": [
        "# 리스트: 자료를 나열\n",
        "# list 안에 1-45 중 랜덤한 6개의 숫자를 뽑아주는 시스템 만들기\n",
        "\n",
        "import random\n",
        "\n",
        "numbers = []  # 뽑은 숫자를 저장할 리스트\n",
        "\n",
        "for _ in range(6):  # 6번 반복\n",
        "    while True:\n",
        "        number = random.randint(1, 45)  # 1부터 45 사이의 난수 생성\n",
        "        if number not in numbers:  # 중복된 숫자는 제외\n",
        "            numbers.append(number)\n",
        "            break  # 중복되지 않은 숫자를 찾으면 while 루프 종료\n",
        "\n",
        "print(\"뽑은 숫자:\", numbers)"
      ],
      "metadata": {
        "colab": {
          "base_uri": "https://localhost:8080/"
        },
        "id": "Gqv9V9RLgAhW",
        "outputId": "ee6340f5-0a8c-43a9-abd8-7de0434d0e5f"
      },
      "execution_count": 29,
      "outputs": [
        {
          "output_type": "stream",
          "name": "stdout",
          "text": [
            "뽑은 숫자: [24, 19, 31, 10, 6, 33]\n"
          ]
        }
      ]
    },
    {
      "cell_type": "code",
      "source": [
        "# 리스트 활용 예제- 학생 성적 평균 계산하기\n",
        "\n",
        "성적=[85,92,78,90,87]\n",
        "평균=sum(성적)/len(성적)\n",
        "print(f'평균: {평균:.2f}')"
      ],
      "metadata": {
        "colab": {
          "base_uri": "https://localhost:8080/"
        },
        "id": "D6Z9wi1ft1R5",
        "outputId": "b62340a6-1103-40b2-9755-1e22737d95b4"
      },
      "execution_count": 30,
      "outputs": [
        {
          "output_type": "stream",
          "name": "stdout",
          "text": [
            "평균: 86.40\n"
          ]
        }
      ]
    },
    {
      "cell_type": "code",
      "source": [
        "# sum과 len이 존재하지 않을때 제어문을 이용해 평균 계싼하기.\n",
        "\n",
        "성적=[85,92,78,90,87]\n",
        "total=0              #sum 대신 총합의 개수 저장\n",
        "count=0              #len 대신 요소의 개수 저장\n",
        "\n",
        "for i in 성적:\n",
        "  total+=i\n",
        "  count+=1\n",
        "\n",
        "평균=total/count\n",
        "print(f'평균: {평균:.2f}')"
      ],
      "metadata": {
        "colab": {
          "base_uri": "https://localhost:8080/"
        },
        "id": "nFy86BqUt72M",
        "outputId": "320f4b6e-6bb7-4357-f591-746d6b08cb54"
      },
      "execution_count": 32,
      "outputs": [
        {
          "output_type": "stream",
          "name": "stdout",
          "text": [
            "평균: 86.40\n"
          ]
        }
      ]
    },
    {
      "cell_type": "code",
      "source": [
        "# 제어문을 활용해서 총합과 평균 구하기. 교수님 예시\n",
        "\n",
        "성적= [85,92,78,90,87]\n",
        "\n",
        "총합=0\n",
        "평균=0.0\n",
        "항목수=0\n",
        "\n",
        "for 점수 in 성적:\n",
        "  총합+=점수\n",
        "  항목수+=1\n",
        "\n",
        "평균=총합/항목수\n",
        "print(f'총합: {총합}, 평균: {평균:}')"
      ],
      "metadata": {
        "colab": {
          "base_uri": "https://localhost:8080/"
        },
        "id": "P5ykZAHfvJBo",
        "outputId": "131e43d2-48d5-4a8f-a7ad-9bb54b0dd0f0"
      },
      "execution_count": 36,
      "outputs": [
        {
          "output_type": "stream",
          "name": "stdout",
          "text": [
            "총합: 432, 평균: 86.4\n"
          ]
        }
      ]
    },
    {
      "cell_type": "code",
      "source": [
        "# 합격자 명단 만들기\n",
        "\n",
        "학생들 = [(\"철수\", 85), (\"영희\", 92), (\"민수\", 65), (\"지영\", 78)]\n",
        "합격자 = [] #빈 리스트 만들기\n",
        "\n",
        "for 학생, 점수 in 학생들: # 변수가 2개라서\n",
        "    if 점수 >= 70:\n",
        "        합격자.append(학생)\n",
        "\n",
        "print(합격자)  # ['철수', '영희', '지영']"
      ],
      "metadata": {
        "colab": {
          "base_uri": "https://localhost:8080/"
        },
        "id": "pbG0V_l6u9F2",
        "outputId": "72551f5a-afcf-4080-84a7-45d38f3971c7"
      },
      "execution_count": 37,
      "outputs": [
        {
          "output_type": "stream",
          "name": "stdout",
          "text": [
            "['철수', '영희', '지영']\n"
          ]
        }
      ]
    },
    {
      "cell_type": "code",
      "source": [
        "# 리스트 내의 중복 제거하기: set() 함수 사용하기\n",
        "\n",
        "숫자들 = [1, 2, 2, 3, 4, 4, 5, 5, 5]\n",
        "중복제거 = list(set(숫자들))  # [1, 2, 3, 4, 5]\n",
        "print( 중복제거)"
      ],
      "metadata": {
        "colab": {
          "base_uri": "https://localhost:8080/"
        },
        "id": "Mo1duNfVwFve",
        "outputId": "abea4134-06d9-4449-c89f-d173b566674f"
      },
      "execution_count": 40,
      "outputs": [
        {
          "output_type": "stream",
          "name": "stdout",
          "text": [
            "[1, 2, 3, 4, 5]\n"
          ]
        }
      ]
    }
  ]
}