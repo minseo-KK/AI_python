{
 "cells": [
  {
   "cell_type": "code",
   "execution_count": 1,
   "id": "50f0d996-4584-40d1-b299-6716751f7cc7",
   "metadata": {},
   "outputs": [
    {
     "name": "stdin",
     "output_type": "stream",
     "text": [
      "나이를 입력하세요: 20\n"
     ]
    },
    {
     "name": "stdout",
     "output_type": "stream",
     "text": [
      "당신은 내년에 21 살입니다.\n"
     ]
    }
   ],
   "source": [
    "age=input(\"나이를 입력하세요:\")\n",
    "age=int(age)\n",
    "print(\"당신은 내년에\",age+1,\"살입니다.\")"
   ]
  },
  {
   "cell_type": "code",
   "execution_count": 9,
   "id": "03b98151-d3c4-4762-b454-abb3a107d381",
   "metadata": {},
   "outputs": [
    {
     "name": "stdin",
     "output_type": "stream",
     "text": [
      "나이를 입력하세요 20\n"
     ]
    },
    {
     "name": "stdout",
     "output_type": "stream",
     "text": [
      "20살입니다.\n"
     ]
    }
   ],
   "source": [
    "age=int(input(\"나이를 입력하세요\"))\n",
    "print(str(age)+\"살입니다.\")"
   ]
  },
  {
   "cell_type": "code",
   "execution_count": 12,
   "id": "77f0f3bf-0fa2-4495-a209-5a9c60bdf6a9",
   "metadata": {},
   "outputs": [
    {
     "name": "stdin",
     "output_type": "stream",
     "text": [
      "숫자를 입력하세요 0\n"
     ]
    },
    {
     "name": "stdout",
     "output_type": "stream",
     "text": [
      "0\n"
     ]
    }
   ],
   "source": [
    "# 양수, 음수를 구분하는 코드\n",
    "n=float(input(\"숫자를 입력하세요\"))\n",
    "\n",
    "if n>0:\n",
    "    print(n,\"은 양수입니다.\")\n",
    "elif n<0:\n",
    "    print(n,\"은 음수입니다.\")\n",
    "else:\n",
    "    print(\"0\")"
   ]
  },
  {
   "cell_type": "code",
   "execution_count": 18,
   "id": "ffeac0f1-8389-42ee-9f55-d1b490e8e6db",
   "metadata": {},
   "outputs": [
    {
     "name": "stdin",
     "output_type": "stream",
     "text": [
      "숫자를 입력하세요. 20\n"
     ]
    },
    {
     "name": "stdout",
     "output_type": "stream",
     "text": [
      "20 은 짝수입니다.\n"
     ]
    }
   ],
   "source": [
    "# 짝수, 홀수를 구분하는 코드\n",
    "\n",
    "n=int(input(\"숫자를 입력하세요.\"))\n",
    "\n",
    "if (n%2)==0:\n",
    "      print(n,\"은 짝수입니다.\")\n",
    "else:\n",
    "      print(n,\"은 홀수입니다.\")\n"
   ]
  },
  {
   "cell_type": "code",
   "execution_count": 21,
   "id": "0653a49c-5c2b-46a0-880b-5dc60d549717",
   "metadata": {},
   "outputs": [
    {
     "name": "stdin",
     "output_type": "stream",
     "text": [
      "A와B의 가위,바위,보를 숫자로 입력하시오. 21\n"
     ]
    },
    {
     "name": "stdout",
     "output_type": "stream",
     "text": [
      "무승부\n"
     ]
    }
   ],
   "source": [
    "# A와 B의 가위, 바위, 보\n",
    "\n",
    "AB=int(input(\"A와B의 가위,바위,보를 숫자로 입력하시오.\"))\n",
    "\n",
    "if (AB== 11 or 22 or 33):\n",
    "      print(\"무승부\")\n",
    "elif (AB== 13 or 21 or 32):\n",
    "       print(\"A승B패\")\n",
    "elif (AB== 31 or 12 or 23):\n",
    "        print(\"B승A패\") \n",
    "else:\n",
    "       print(\"잘못된 입력\")\n",
    "\n",
    "\n",
    "#(A==3 and B==1) or (A==1 and B==2) or (A==2 and B==3)"
   ]
  },
  {
   "cell_type": "code",
   "execution_count": 33,
   "id": "129058a3-b327-40e3-ae13-acb30d886585",
   "metadata": {},
   "outputs": [
    {
     "name": "stdin",
     "output_type": "stream",
     "text": [
      "A와 B의 가위,바위,보를 숫자로 입력하시오 1 2\n"
     ]
    },
    {
     "name": "stdout",
     "output_type": "stream",
     "text": [
      "B승A패\n"
     ]
    }
   ],
   "source": [
    "A,B=map(int,input(\"A와 B의 가위,바위,보를 숫자로 입력하시오\").split())\n",
    "\n",
    "if (A==B):\n",
    "     print(\"무승부\")\n",
    "elif (A==1 and B==3) or (A==2 and B==1) or (A==3 and B==2):\n",
    "    print(\"A승B패\")\n",
    "else:\n",
    "    print(\"B승A패\")\n",
    "    "
   ]
  },
  {
   "cell_type": "code",
   "execution_count": 37,
   "id": "b1b4b4f0-6253-4bc8-ad84-5938979b78b7",
   "metadata": {},
   "outputs": [
    {
     "name": "stdin",
     "output_type": "stream",
     "text": [
      "A와 B의 가위,바위,보를 숫자로 입력하시오 4 4\n"
     ]
    },
    {
     "name": "stdout",
     "output_type": "stream",
     "text": [
      "무승부\n"
     ]
    }
   ],
   "source": [
    "# A와 B의 가위, 바위, 보\n",
    "\n",
    "A,B=map(int,input(\"A와 B의 가위,바위,보를 숫자로 입력하시오\").split())\n",
    "\n",
    "if (A==B):\n",
    "     print(\"무승부\")\n",
    "elif (A>3 or B>3):\n",
    "    print(\"잘못된 입력\")\n",
    "elif (A==1 and B==3) or (A==2 and B==1) or (A==3 and B==2):\n",
    "    print(\"A승B패\")\n",
    "else:\n",
    "    print(\"B승A패\")"
   ]
  },
  {
   "cell_type": "code",
   "execution_count": 38,
   "id": "a9282c33-ef6e-45e3-b56d-ae24d61914d0",
   "metadata": {},
   "outputs": [
    {
     "name": "stdin",
     "output_type": "stream",
     "text": [
      " 4 4\n"
     ]
    },
    {
     "name": "stdout",
     "output_type": "stream",
     "text": [
      "잘못된 입력\n"
     ]
    }
   ],
   "source": [
    "# A와 B의 가위, 바위, 보\n",
    "\n",
    "A,B=map(int,input().split())\n",
    "\n",
    "if(A>3 or B>3):\n",
    "    print(\"잘못된 입력\")\n",
    "elif(A==B):\n",
    "     print(\"무승부\")\n",
    "elif (A==1 and B==3) or (A==2 and B==1) or (A==3 and B==2):\n",
    "    print(\"A승B패\")\n",
    "else:\n",
    "    print(\"B승A패\")"
   ]
  },
  {
   "cell_type": "code",
   "execution_count": null,
   "id": "7a37b570-8fda-424c-aba6-499bd42dc6f5",
   "metadata": {},
   "outputs": [],
   "source": []
  }
 ],
 "metadata": {
  "kernelspec": {
   "display_name": "Python 3 (ipykernel)",
   "language": "python",
   "name": "python3"
  },
  "language_info": {
   "codemirror_mode": {
    "name": "ipython",
    "version": 3
   },
   "file_extension": ".py",
   "mimetype": "text/x-python",
   "name": "python",
   "nbconvert_exporter": "python",
   "pygments_lexer": "ipython3",
   "version": "3.12.6"
  }
 },
 "nbformat": 4,
 "nbformat_minor": 5
}
