{
  "nbformat": 4,
  "nbformat_minor": 0,
  "metadata": {
    "colab": {
      "provenance": []
    },
    "kernelspec": {
      "name": "python3",
      "display_name": "Python 3"
    },
    "language_info": {
      "name": "python"
    }
  },
  "cells": [
    {
      "cell_type": "code",
      "execution_count": 3,
      "metadata": {
        "id": "eiTmyn7my0jU",
        "colab": {
          "base_uri": "https://localhost:8080/"
        },
        "outputId": "46a07b81-25a5-42bf-aad2-7b905378c61f"
      },
      "outputs": [
        {
          "output_type": "stream",
          "name": "stdout",
          "text": [
            "첫 번째 정수를 입력하세요: 5\n",
            "두 번째 정수를 입력하세요: 6\n",
            "5은 6보다 작습니다.\n"
          ]
        }
      ],
      "source": [
        "# 조건문 실습문제 1. 두 수 비교하기\n",
        "\n",
        "num1 = int ( input (\"첫 번째 정수를 입력하세요: \"))\n",
        "num2 = int ( input (\"두 번째 정수를 입력하세요: \"))\n",
        "\n",
        "if num1 > num2:\n",
        "    print(f\"{num1}은 {num2}보다 큽니다.\")\n",
        "elif num1 < num2:\n",
        "    print(f\"{num1}은 {num2}보다 작습니다.\")\n",
        "else:\n",
        "    print(f\"{num1}와 {num2}는 같습니다. \")\n"
      ]
    },
    {
      "cell_type": "code",
      "source": [
        "# 조건문 실습문제 2. 세 수 중 가장 큰 수를 찾기\n",
        "\n",
        "num1 = int ( input (\"첫 번째 정수를 입력하세요: \"))\n",
        "print(f\"첫 번째 수: {num1}\")\n",
        "num2 = int (input ( \"두 번째 정수를 입력하세요: \"))\n",
        "print(f\"두 번째 수: {num2}\")\n",
        "num3 = int ( input (\"세 번째 정수를 입력하세요: \"))\n",
        "print(f\"세 번째 수: {num3}\")\n",
        "\n",
        "max_num = num1 # num1이 가장 큰 값이라고 가정\n",
        "\n",
        "if max_num < num2:\n",
        "  print(f\" 두번째 수 {num2}가 현재 최대값 {max_num}보다 큽니다. 최대값을 업데이트 합니다.\")\n",
        "  max_num = num2\n",
        "else:  print(f\" 두번째 수 {num2}는 현재 최대값 {max_num}보다 크지않습니다.\")\n",
        "\n",
        "if max_num < num3:\n",
        "  print(f\" 세번째 수 {num3}가 현재 최대값 {max_num}보다 큽니다. 최대값을 업데이트 합니다.\")\n",
        "  max_num = num3\n",
        "else:  print(f\" 세번째 수 {num3}는 현재 최대값 {max_num}보다 크지않습니다.\")\n",
        "\n",
        "print(f\"\\n 입력하신 세 수 {num1}, {num2}, {num3} 중에서 가장 큰 수는 {max_num} 입니다.\")\n",
        "\n",
        "\n"
      ],
      "metadata": {
        "colab": {
          "base_uri": "https://localhost:8080/"
        },
        "id": "XmrVjY6cXGzA",
        "outputId": "784d528d-4302-4d12-a9b3-411f39847c58"
      },
      "execution_count": 5,
      "outputs": [
        {
          "output_type": "stream",
          "name": "stdout",
          "text": [
            "첫 번째 정수를 입력하세요: 8\n",
            "첫 번째 수: 8\n",
            "두 번째 정수를 입력하세요: 6\n",
            "두 번째 수: 6\n",
            "세 번째 정수를 입력하세요: 9\n",
            "세 번째 수: 9\n",
            " 두번째 수 6는 현재 최대값 8보다 크지않습니다.\n",
            " 세번째 수 9가 현재 최대값 8보다 큽니다. 최대값을 업데이트 합니다.\n",
            "\n",
            " 입력하신 세 수 8, 6, 9 중에서 가장 큰 수는 9 입니다.\n"
          ]
        }
      ]
    },
    {
      "cell_type": "code",
      "source": [
        "# 조건문 실습문제 3. 학점 판별하기\n",
        "\n",
        "score = int(input(\"시험 점수 (0~100)를 입력하세요: \"))\n",
        "\n",
        "if 0 <= score <= 100:\n",
        "  if score >= 90:\n",
        "    grade = \"A\"\n",
        "  elif score >= 80:\n",
        "    grade = \"B\"\n",
        "  elif score >= 70:\n",
        "    grade = \"C\"\n",
        "  elif score >= 60:\n",
        "    grade = \"D\"\n",
        "  else:\n",
        "    grade = \"F\"\n",
        "\n",
        "  print(f\"당신의 학점은 {grade}입니다.\")\n",
        "\n",
        "else:\n",
        "  print(\"유효하지 않은 점수입니다.\")\n"
      ],
      "metadata": {
        "colab": {
          "base_uri": "https://localhost:8080/"
        },
        "id": "3JWx6Bc9bboE",
        "outputId": "c02b4b8c-0bfe-4585-8001-403be6dec082"
      },
      "execution_count": 10,
      "outputs": [
        {
          "output_type": "stream",
          "name": "stdout",
          "text": [
            "시험 점수 (0~100)를 입력하세요: 1000\n",
            "유효하지 않은 점수입니다.\n"
          ]
        }
      ]
    },
    {
      "cell_type": "code",
      "source": [
        "# 조건문 실습문제 4. 윤년 판별하기\n",
        "\n",
        "year = int (input(\"연도를 입력하세요: \"))\n",
        "\n",
        "if (year % 4 == 0 and year % 100 != 0) or (year % 400 == 0):\n",
        "  print(f\"{year}년은 윤년입니다.\")\n",
        "else:\n",
        "  print(f\" {year}년은 윤년이 아닙니다.\")"
      ],
      "metadata": {
        "colab": {
          "base_uri": "https://localhost:8080/"
        },
        "id": "LCzX1TVxdgNr",
        "outputId": "74694264-5f39-45e9-bbac-a4d82c56539d"
      },
      "execution_count": 12,
      "outputs": [
        {
          "output_type": "stream",
          "name": "stdout",
          "text": [
            "연도를 입력하세요: 1824\n",
            "1824년은 윤년입니다.\n"
          ]
        }
      ]
    },
    {
      "cell_type": "code",
      "source": [
        "for i in range(5):\n",
        "  print(i+1)"
      ],
      "metadata": {
        "colab": {
          "base_uri": "https://localhost:8080/"
        },
        "id": "-OFAGLfxk0SI",
        "outputId": "15c74f26-6bf9-4c29-bf3f-832fdddcf581"
      },
      "execution_count": 17,
      "outputs": [
        {
          "output_type": "stream",
          "name": "stdout",
          "text": [
            "1\n",
            "2\n",
            "3\n",
            "4\n",
            "5\n"
          ]
        }
      ]
    },
    {
      "cell_type": "code",
      "source": [
        "for i in range(1,6):\n",
        "  print(i)"
      ],
      "metadata": {
        "colab": {
          "base_uri": "https://localhost:8080/"
        },
        "id": "zaj2tmBYlNXA",
        "outputId": "6588d3c1-1511-4bed-b68c-4b23a79e34f0"
      },
      "execution_count": 20,
      "outputs": [
        {
          "output_type": "stream",
          "name": "stdout",
          "text": [
            "1\n",
            "2\n",
            "3\n",
            "4\n",
            "5\n"
          ]
        }
      ]
    },
    {
      "cell_type": "code",
      "source": [
        "for i in ['a','b',3,4,5]:\n",
        "  print(i)"
      ],
      "metadata": {
        "colab": {
          "base_uri": "https://localhost:8080/"
        },
        "id": "_d3Wbz7Gm9uE",
        "outputId": "9e3204d7-b6c9-4723-d674-e752c82cd6ab"
      },
      "execution_count": 22,
      "outputs": [
        {
          "output_type": "stream",
          "name": "stdout",
          "text": [
            "a\n",
            "b\n",
            "3\n",
            "4\n",
            "5\n"
          ]
        }
      ]
    },
    {
      "cell_type": "code",
      "source": [
        "# 반복문 실습문제 1. 1부터 N까지의 합 계산하기\n",
        "\n",
        "n=int(input(\"양의 정수를 N을 입력하시오.\"))\n",
        "\n",
        "if n<=0:\n",
        "  print(\"N은 양의 정수여야 합니다\")\n",
        "\n",
        "else:\n",
        "  total=0\n",
        "  for i in range (1, n+1):\n",
        "    total+=i\n",
        "  print(f\"1부터 {n}까지의 합: {total} 입니다.\")"
      ],
      "metadata": {
        "colab": {
          "base_uri": "https://localhost:8080/"
        },
        "id": "OCWe4W3Odpf5",
        "outputId": "0167c14c-a646-4628-beb4-d378d5665c35"
      },
      "execution_count": 27,
      "outputs": [
        {
          "output_type": "stream",
          "name": "stdout",
          "text": [
            "양의 정수를 N을 입력하시오.65\n",
            "1부터 65까지의 합: 2145 입니다.\n"
          ]
        }
      ]
    },
    {
      "cell_type": "code",
      "source": [
        "# 반복문 실습문제 4. 특정 조건까지 반복하기 (while 루프)\n",
        "\n",
        "count=0\n",
        "print('0부터 9까지 출력:')\n",
        "while count<10:\n",
        "  print(count)\n",
        "  count+=1\n",
        "print('while 루프 종료')"
      ],
      "metadata": {
        "colab": {
          "base_uri": "https://localhost:8080/"
        },
        "id": "VgUX1dErd9-N",
        "outputId": "b4743d9f-bf7a-4b58-c17f-1c8044b4301f"
      },
      "execution_count": 28,
      "outputs": [
        {
          "output_type": "stream",
          "name": "stdout",
          "text": [
            "0부터 9까지 출력:\n",
            "0\n",
            "1\n",
            "2\n",
            "3\n",
            "4\n",
            "5\n",
            "6\n",
            "7\n",
            "8\n",
            "9\n",
            "while 루프 종료\n"
          ]
        }
      ]
    },
    {
      "cell_type": "code",
      "source": [
        "# 위의 문제 for문으로\n",
        "\n",
        "print('0부터 9까지 출력:')\n",
        "for i in range (10):\n",
        " print(i)\n",
        "print ('for 루프 종료')"
      ],
      "metadata": {
        "colab": {
          "base_uri": "https://localhost:8080/"
        },
        "id": "YgWMgU9Fr-GG",
        "outputId": "8460515d-08a2-4f47-c1b4-301a495fdc91"
      },
      "execution_count": 32,
      "outputs": [
        {
          "output_type": "stream",
          "name": "stdout",
          "text": [
            "0부터 9까지 출력:\n",
            "0\n",
            "1\n",
            "2\n",
            "3\n",
            "4\n",
            "5\n",
            "6\n",
            "7\n",
            "8\n",
            "9\n",
            "for 루프 종료\n"
          ]
        }
      ]
    }
  ]
}