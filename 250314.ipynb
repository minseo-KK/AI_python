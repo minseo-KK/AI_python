{
  "nbformat": 4,
  "nbformat_minor": 0,
  "metadata": {
    "colab": {
      "provenance": []
    },
    "kernelspec": {
      "name": "python3",
      "display_name": "Python 3"
    },
    "language_info": {
      "name": "python"
    }
  },
  "cells": [
    {
      "cell_type": "code",
      "execution_count": 6,
      "metadata": {
        "colab": {
          "base_uri": "https://localhost:8080/"
        },
        "id": "NXmUEBY9dJOU",
        "outputId": "4c060424-6221-4788-ab33-627666c7a9a2"
      },
      "outputs": [
        {
          "output_type": "stream",
          "name": "stdout",
          "text": [
            "반지름이 5 인 원의 면적은 78.5398 입니다.\n"
          ]
        }
      ],
      "source": [
        "# 문제1 반지름이 5인 원의 면적을 구하시오. (원주율) 값은 3.141592로 계산합니다.\n",
        "# <출력예시> 반지름이 5인 원의 면적은 78.5398 입니다.\n",
        "\n",
        "r= 5\n",
        "pi= 3.141592\n",
        "\n",
        "result= r*r*pi\n",
        "\n",
        "print(\"반지름이\",r,\"인 원의 면적은\",result,\"입니다.\")"
      ]
    },
    {
      "cell_type": "code",
      "source": [
        "# 문제2 분(정수)을 시간과 분으로 변환하여 출력하시오.\n",
        "# 100분은 1시간 40분 입니다.\n",
        "\n",
        "input= 100\n",
        "\n",
        "hour= input //60\n",
        "min= input % 60\n",
        "\n",
        "print(input,\"분은\",hour,\"시간\",min,\"분\",\"입니다.\")"
      ],
      "metadata": {
        "colab": {
          "base_uri": "https://localhost:8080/"
        },
        "id": "7FVQaPEceBTz",
        "outputId": "e7cfc47d-4fa6-406d-9172-d47bfd8a770d"
      },
      "execution_count": 8,
      "outputs": [
        {
          "output_type": "stream",
          "name": "stdout",
          "text": [
            "100 분은 1 시간 40 분 입니다.\n"
          ]
        }
      ]
    },
    {
      "cell_type": "code",
      "source": [],
      "metadata": {
        "id": "bXlhJ92_gXpg"
      },
      "execution_count": null,
      "outputs": []
    }
  ]
}