{
  "nbformat": 4,
  "nbformat_minor": 0,
  "metadata": {
    "colab": {
      "provenance": []
    },
    "kernelspec": {
      "name": "python3",
      "display_name": "Python 3"
    },
    "language_info": {
      "name": "python"
    }
  },
  "cells": [
    {
      "cell_type": "code",
      "execution_count": 15,
      "metadata": {
        "colab": {
          "base_uri": "https://localhost:8080/"
        },
        "id": "VqbF9xQFZAAt",
        "outputId": "832635e0-1c7c-41c4-d364-207e9e02c405"
      },
      "outputs": [
        {
          "output_type": "stream",
          "name": "stdout",
          "text": [
            "여성\n"
          ]
        }
      ],
      "source": [
        "# 가상의 주민등록번호의 주인이 여성인지 남성인지 판별\n",
        "id='250411-4000000' # 주민등록 번호 문자열 취급을 위해 따옴표 꼭꼭 사용하기\n",
        "\n",
        "if id[7] == '1' or id[7] == '3':\n",
        "  print('남성')\n",
        "\n",
        "else:\n",
        "  print('여성')"
      ]
    },
    {
      "cell_type": "code",
      "source": [
        "# 회문 판별하기\n",
        "\n",
        "s1=input('문자열')\n",
        "s2=''\n",
        "\n",
        "for i in range(len(s1)-1,-1,-1):\n",
        "  s2=s2+s1[i]\n",
        "\n",
        "if s1==s2:\n",
        "  print('회문')\n",
        "\n",
        "else:\n",
        "  print('회문 아님')"
      ],
      "metadata": {
        "colab": {
          "base_uri": "https://localhost:8080/"
        },
        "id": "32wzC5eziTEq",
        "outputId": "71b2db05-cd0b-48b4-da36-c4b7772746e0"
      },
      "execution_count": 12,
      "outputs": [
        {
          "output_type": "stream",
          "name": "stdout",
          "text": [
            "문자열aba\n",
            "회문\n"
          ]
        }
      ]
    },
    {
      "cell_type": "code",
      "source": [
        "#split 이용해 주소 쪼개기\n",
        "\n",
        "s='부산시 금정구'\n",
        "print(s.split(' '))"
      ],
      "metadata": {
        "colab": {
          "base_uri": "https://localhost:8080/"
        },
        "id": "M3OYdWigoWHX",
        "outputId": "a4817313-d1e4-431c-aae0-147d9d6e14db"
      },
      "execution_count": 17,
      "outputs": [
        {
          "output_type": "stream",
          "name": "stdout",
          "text": [
            "['부산시', '금정구']\n"
          ]
        }
      ]
    },
    {
      "cell_type": "code",
      "source": [
        "#join 이용하기\n",
        "\n",
        "l=['부산시', '금정구']\n",
        "print(','.join(l))"
      ],
      "metadata": {
        "colab": {
          "base_uri": "https://localhost:8080/"
        },
        "id": "yPED6iIsoqKA",
        "outputId": "dfc39a39-4353-4d25-caa4-b9887dd357ce"
      },
      "execution_count": 18,
      "outputs": [
        {
          "output_type": "stream",
          "name": "stdout",
          "text": [
            "부산시,금정구\n"
          ]
        }
      ]
    },
    {
      "cell_type": "code",
      "source": [
        "# 비밀번호를 입력받고 문자,숫자가 섞여 있으면 통과 그렇지 않으면 재입력받기\n",
        "\n",
        "pw=input('알파벳과 숫자로 구성된 비밀번호를 만드시오:')\n",
        "\n",
        "if any(c.isdigit() for c in pw) and any(c.isalpha() for c in pw):\n",
        "  print('비밀번호가 설정되었습니다.')\n",
        "\n",
        "else:\n",
        "  print('재입력')"
      ],
      "metadata": {
        "id": "GMQz_nj7qLQQ"
      },
      "execution_count": null,
      "outputs": []
    },
    {
      "cell_type": "code",
      "source": [],
      "metadata": {
        "id": "Zr_BrcxssK2y"
      },
      "execution_count": null,
      "outputs": []
    }
  ]
}